{
 "cells": [
  {
   "cell_type": "markdown",
   "metadata": {},
   "source": [
    "Modeling Notebook:"
   ]
  },
  {
   "cell_type": "markdown",
   "metadata": {},
   "source": [
    "# Loading Packages"
   ]
  },
  {
   "cell_type": "code",
   "execution_count": 1,
   "metadata": {},
   "outputs": [],
   "source": [
    "import pandas as pd\n",
    "# Importing Libraries\n",
    "import pandas as pd\n",
    "import numpy as np\n",
    "import matplotlib.pyplot as plt\n",
    "import seaborn as sns\n",
    "from sklearn.model_selection import train_test_split\n",
    "from sklearn.preprocessing import StandardScaler\n",
    "from sklearn.linear_model import LinearRegression\n",
    "from sklearn.metrics import mean_squared_error\n",
    "from sklearn.ensemble import RandomForestRegressor"
   ]
  },
  {
   "cell_type": "markdown",
   "metadata": {},
   "source": [
    "# Loading Data"
   ]
  },
  {
   "cell_type": "code",
   "execution_count": 2,
   "metadata": {},
   "outputs": [
    {
     "name": "stderr",
     "output_type": "stream",
     "text": [
      "C:\\Users\\matt\\AppData\\Local\\Temp\\ipykernel_6572\\608475065.py:5: DtypeWarning: Columns (8,11,12,13,14,15,16,17,18,20,21,22,23,24) have mixed types. Specify dtype option on import or set low_memory=False.\n",
      "  df = pd.read_csv(file_path)\n"
     ]
    }
   ],
   "source": [
    "# Define the path to your CSV file\n",
    "# file_path = r\"C:/Users/johne/Downloads/IWC_Work_Orders_Extract.csv\"\n",
    "file_path = r\"C:/Users/matt/Downloads/IWC_Work_Orders_Extract.csv\"\n",
    "# Read the CSV file into a pandas DataFrame\n",
    "df = pd.read_csv(file_path)"
   ]
  },
  {
   "cell_type": "markdown",
   "metadata": {},
   "source": [
    "# Glypse of Data"
   ]
  },
  {
   "cell_type": "code",
   "execution_count": 3,
   "metadata": {},
   "outputs": [
    {
     "name": "stdout",
     "output_type": "stream",
     "text": [
      "Head of the DataFrame:\n",
      "    ORDER_ID PLANT_ID PRODUCTION_LOCATION EXECUTION_START_DATE  \\\n",
      "0  705642457     G812                ROMA           2024-05-04   \n",
      "1  704191697     G812                ROMA           2022-09-13   \n",
      "2  704466547     G812                ROMA           2022-12-21   \n",
      "3  703834477     G812                ROMA           2022-07-04   \n",
      "4  704661125     G291               MONZA           2023-03-15   \n",
      "\n",
      "  EXECUTION_FINISH_DATE ACTUAL_START_TIME ACTUAL_FINISH_TIME  \\\n",
      "0            2024-05-12      06:00:00.000       23:04:08.000   \n",
      "1            2022-09-13      06:00:00.000       17:17:24.000   \n",
      "2            2022-12-21      07:00:00.000       07:00:00.000   \n",
      "3            2022-07-04      06:00:00.000       06:00:00.000   \n",
      "4            2023-03-15      07:00:00.000       07:00:00.000   \n",
      "\n",
      "   ACTUAL_WORK_IN_MINUTES MAINTENANCE_PLAN  MAINTENANCE_ITEM  ...  \\\n",
      "0                   390.0              NaN               NaN  ...   \n",
      "1                   420.0              NaN               NaN  ...   \n",
      "2                    30.0              NaN               NaN  ...   \n",
      "3                    60.0              NaN               NaN  ...   \n",
      "4                   120.0              NaN               NaN  ...   \n",
      "\n",
      "  FUNCTIONAL_AREA_NODE_2_MODIFIED    FUNCTIONAL_AREA_NODE_3_MODIFIED  \\\n",
      "0      G812 PRD FILLER_ROTARY_CAN  G812 PRD FILLER_ROTARY_CAN LINE 3   \n",
      "1      G812 PRD FILLER_ROTARY_CAN  G812 PRD FILLER_ROTARY_CAN LINE 3   \n",
      "2      G812 PRD FILLER_ROTARY_CAN  G812 PRD FILLER_ROTARY_CAN LINE 3   \n",
      "3      G812 PRD FILLER_ROTARY_CAN  G812 PRD FILLER_ROTARY_CAN LINE 3   \n",
      "4                     AIR SYSTEMS                                NaN   \n",
      "\n",
      "  FUNCTIONAL_AREA_NODE_4_MODIFIED FUNCTIONAL_AREA_NODE_5_MODIFIED  \\\n",
      "0                        CONVEYOR               FULL CAN CONVEYOR   \n",
      "1                        CONVEYOR               FULL CAN CONVEYOR   \n",
      "2                        CONVEYOR               FULL CAN CONVEYOR   \n",
      "3                        CONVEYOR               FULL CAN CONVEYOR   \n",
      "4                             NaN                             NaN   \n",
      "\n",
      "  EQUIPMENT_ID             EQUIPMENT_DESC EQUIP_CAT_DESC EQUIP_START_UP_DATE  \\\n",
      "0  300126812.0  FULL CAN CONVEYOR (FC41B)       Machines          2020-04-22   \n",
      "1  300126812.0  FULL CAN CONVEYOR (FC41B)       Machines          2020-04-22   \n",
      "2  300126812.0  FULL CAN CONVEYOR (FC41B)       Machines          2020-04-22   \n",
      "3  300126812.0  FULL CAN CONVEYOR (FC41B)       Machines          2020-04-22   \n",
      "4  300001088.0          TANK_STL_STOR_AIR       Machines          2017-02-15   \n",
      "\n",
      "  EQUIP_VALID_FROM  EQUIP_VALID_TO  \n",
      "0       2020-02-10      9999-12-31  \n",
      "1       2020-02-10      9999-12-31  \n",
      "2       2020-02-10      9999-12-31  \n",
      "3       2020-02-10      9999-12-31  \n",
      "4       2023-12-11      9999-12-31  \n",
      "\n",
      "[5 rows x 25 columns]\n"
     ]
    }
   ],
   "source": [
    "# Display the first 5 rows of the DataFrame\n",
    "print(\"Head of the DataFrame:\")\n",
    "print(df.head())"
   ]
  },
  {
   "cell_type": "markdown",
   "metadata": {},
   "source": [
    "# Creating new variables:"
   ]
  },
  {
   "cell_type": "code",
   "execution_count": 4,
   "metadata": {},
   "outputs": [
    {
     "name": "stdout",
     "output_type": "stream",
     "text": [
      "Head of the DataFrame with Time Between Maintenance:\n",
      "          ORDER_ID PLANT_ID PRODUCTION_LOCATION EXECUTION_START_DATE  \\\n",
      "224341   702834897     G816                COTA           2021-03-30   \n",
      "1021363  702233571     G812                ROMA           2020-05-30   \n",
      "449320   702376206     G812                ROMA           2020-08-04   \n",
      "712483   702477379     G812                ROMA           2020-09-21   \n",
      "844336   702643176     G812                ROMA           2020-12-09   \n",
      "\n",
      "        EXECUTION_FINISH_DATE ACTUAL_START_TIME ACTUAL_FINISH_TIME  \\\n",
      "224341             2021-03-30      06:00:00.000       06:00:00.000   \n",
      "1021363            2020-05-30      06:00:00.000       06:00:00.000   \n",
      "449320             2020-08-04      06:00:00.000       06:00:00.000   \n",
      "712483             2020-09-21      06:00:00.000       06:00:00.000   \n",
      "844336             2020-12-09      07:00:00.000       07:00:00.000   \n",
      "\n",
      "         ACTUAL_WORK_IN_MINUTES MAINTENANCE_PLAN  MAINTENANCE_ITEM  ...  \\\n",
      "224341                      6.0              NaN               NaN  ...   \n",
      "1021363                   180.0              NaN               NaN  ...   \n",
      "449320                    120.0              NaN               NaN  ...   \n",
      "712483                     60.0              NaN               NaN  ...   \n",
      "844336                     60.0              NaN               NaN  ...   \n",
      "\n",
      "        FUNCTIONAL_AREA_NODE_3_MODIFIED FUNCTIONAL_AREA_NODE_4_MODIFIED  \\\n",
      "224341                        WAREHOUSE                             NaN   \n",
      "1021363                       WAREHOUSE                             NaN   \n",
      "449320                        WAREHOUSE                             NaN   \n",
      "712483                        WAREHOUSE                             NaN   \n",
      "844336                        WAREHOUSE                             NaN   \n",
      "\n",
      "        FUNCTIONAL_AREA_NODE_5_MODIFIED EQUIPMENT_ID EQUIPMENT_DESC  \\\n",
      "224341                              NaN  200087110.0            NaN   \n",
      "1021363                             NaN  200108112.0            NaN   \n",
      "449320                              NaN  200108112.0            NaN   \n",
      "712483                              NaN  200108112.0            NaN   \n",
      "844336                              NaN  200108112.0            NaN   \n",
      "\n",
      "        EQUIP_CAT_DESC EQUIP_START_UP_DATE EQUIP_VALID_FROM EQUIP_VALID_TO  \\\n",
      "224341             NaN                 NaN              NaN            NaN   \n",
      "1021363            NaN                 NaN              NaN            NaN   \n",
      "449320             NaN                 NaN              NaN            NaN   \n",
      "712483             NaN                 NaN              NaN            NaN   \n",
      "844336             NaN                 NaN              NaN            NaN   \n",
      "\n",
      "         TIME_BETWEEN_MAINTENANCE  \n",
      "224341                        NaN  \n",
      "1021363                       NaN  \n",
      "449320                       66.0  \n",
      "712483                       48.0  \n",
      "844336                       79.0  \n",
      "\n",
      "[5 rows x 26 columns]\n"
     ]
    }
   ],
   "source": [
    "# Calculating Time Between Maintenance Events Section\n",
    "# Convert 'EXECUTION_START_DATE' to datetime format\n",
    "df['EXECUTION_START_DATE'] = pd.to_datetime(df['EXECUTION_START_DATE'], errors='coerce')\n",
    "\n",
    "# Drop rows with invalid 'EXECUTION_START_DATE'\n",
    "df.dropna(subset=['EXECUTION_START_DATE'], inplace=True)\n",
    "\n",
    "# Sort the DataFrame by 'EQUIPMENT_ID' and 'EXECUTION_START_DATE'\n",
    "df.sort_values(by=['EQUIPMENT_ID', 'EXECUTION_START_DATE'], inplace=True)\n",
    "\n",
    "# Calculate the time difference between consecutive 'EXECUTION_START_DATE' for each 'EQUIPMENT_ID'\n",
    "df['TIME_BETWEEN_MAINTENANCE'] = df.groupby('EQUIPMENT_ID')['EXECUTION_START_DATE'].diff().dt.days\n",
    "\n",
    "# Display the first 5 rows to verify the new column\n",
    "print(\"Head of the DataFrame with Time Between Maintenance:\")\n",
    "print(df.head())"
   ]
  },
  {
   "cell_type": "markdown",
   "metadata": {},
   "source": [
    "# Model"
   ]
  },
  {
   "cell_type": "code",
   "execution_count": null,
   "metadata": {},
   "outputs": [],
   "source": [
    "# Model\n",
    "# Predictive Model Section\n",
    "# Drop rows with missing 'TIME_BETWEEN_MAINTENANCE' (since the first entry for each equipment will have NaN)\n",
    "df.dropna(subset=['TIME_BETWEEN_MAINTENANCE'], inplace=True)\n",
    "\n",
    "# Selecting features for the predictive model\n",
    "# We will use 'TIME_BETWEEN_MAINTENANCE' and other relevant features to predict the next maintenance event\n",
    "features = ['TIME_BETWEEN_MAINTENANCE', 'EQUIPMENT_ID', 'ACTUAL_WORK_IN_MINUTES']\n",
    "X = df[features]\n",
    "y = df['TIME_BETWEEN_MAINTENANCE'].shift(-1)  # Target is the next 'TIME_BETWEEN_MAINTENANCE' value\n",
    "\n",
    "# Drop the last row since it has NaN target value\n",
    "y.dropna(inplace=True)\n",
    "X = X.iloc[:-1, :]\n",
    "\n",
    "# Encoding categorical features ('EQUIPMENT_ID')\n",
    "X = pd.get_dummies(X, columns=['EQUIPMENT_ID'])\n",
    "\n",
    "# Splitting the data into training and testing sets\n",
    "X_train, X_test, y_train, y_test = train_test_split(X, y, test_size=0.2, random_state=42)\n",
    "\n",
    "# Scaling Features Section\n",
    "scaler = StandardScaler()\n",
    "X_train_scaled = scaler.fit_transform(X_train)\n",
    "X_test_scaled = scaler.transform(X_test)\n",
    "\n",
    "# Training a Predictive Model to Estimate Maintenance Time Section\n",
    "model = RandomForestRegressor(n_estimators=100, random_state=42)\n",
    "model.fit(X_train_scaled, y_train)\n",
    "\n",
    "# Model Evaluation Section\n",
    "y_pred = model.predict(X_test_scaled)\n",
    "mse = mean_squared_error(y_test, y_pred)\n",
    "print(f'Mean Squared Error for Predictive Model: {mse}')\n",
    "\n",
    "# Average Maintenance Time Prediction per Equipment ID Section\n",
    "avg_maintenance_time = df.groupby('EQUIPMENT_ID')['TIME_BETWEEN_MAINTENANCE'].mean().reset_index()\n",
    "\n",
    "# Visualization Section\n",
    "plt.figure(figsize=(12, 6))\n",
    "sns.barplot(x='EQUIPMENT_ID', y='TIME_BETWEEN_MAINTENANCE', data=avg_maintenance_time)\n",
    "plt.xlabel('Equipment ID')\n",
    "plt.ylabel('Average Time Between Maintenance (Days)')\n",
    "plt.title('Average Maintenance Time per Equipment ID')\n",
    "plt.xticks(rotation=90)\n",
    "plt.tight_layout()\n",
    "plt.show()\n",
    "\n",
    "# Glypse of Data Section\n",
    "# Display the first 5 rows of the DataFrame\n",
    "print(\"Head of the DataFrame:\")\n",
    "print(df.head())"
   ]
  }
 ],
 "metadata": {
  "kernelspec": {
   "display_name": "Python 3",
   "language": "python",
   "name": "python3"
  },
  "language_info": {
   "codemirror_mode": {
    "name": "ipython",
    "version": 3
   },
   "file_extension": ".py",
   "mimetype": "text/x-python",
   "name": "python",
   "nbconvert_exporter": "python",
   "pygments_lexer": "ipython3",
   "version": "3.12.4"
  }
 },
 "nbformat": 4,
 "nbformat_minor": 2
}
