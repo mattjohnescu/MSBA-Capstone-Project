{
 "cells": [
  {
   "cell_type": "markdown",
   "metadata": {},
   "source": [
    "Modeling Notebook:"
   ]
  },
  {
   "cell_type": "markdown",
   "metadata": {},
   "source": [
    "# Loading Packages"
   ]
  },
  {
   "cell_type": "code",
   "execution_count": null,
   "metadata": {},
   "outputs": [],
   "source": [
    "import pandas as pd"
   ]
  },
  {
   "cell_type": "markdown",
   "metadata": {},
   "source": [
    "# Loading Data"
   ]
  },
  {
   "cell_type": "code",
   "execution_count": null,
   "metadata": {},
   "outputs": [],
   "source": [
    "# Define the path to your CSV file\n",
    "# file_path = r\"C:/Users/johne/Downloads/IWC_Work_Orders_Extract.csv\"\n",
    "file_path = r\"C:/Users/matt/Downloads/IWC_Work_Orders_Extract.csv\"\n",
    "# Read the CSV file into a pandas DataFrame\n",
    "df = pd.read_csv(file_path)"
   ]
  },
  {
   "cell_type": "markdown",
   "metadata": {},
   "source": [
    "# Glypse of Data"
   ]
  },
  {
   "cell_type": "code",
   "execution_count": null,
   "metadata": {},
   "outputs": [],
   "source": [
    "# Display the first 5 rows of the DataFrame\n",
    "print(\"Head of the DataFrame:\")\n",
    "print(df.head())"
   ]
  },
  {
   "cell_type": "markdown",
   "metadata": {},
   "source": [
    "# Creating new variables:"
   ]
  },
  {
   "cell_type": "code",
   "execution_count": null,
   "metadata": {},
   "outputs": [],
   "source": [
    "# Calculating Time Between Maintenance Events Section\n",
    "# Convert 'EXECUTION_START_DATE' to datetime format\n",
    "df['EXECUTION_START_DATE'] = pd.to_datetime(df['EXECUTION_START_DATE'], errors='coerce')\n",
    "\n",
    "# Drop rows with invalid 'EXECUTION_START_DATE'\n",
    "df.dropna(subset=['EXECUTION_START_DATE'], inplace=True)\n",
    "\n",
    "# Sort the DataFrame by 'EQUIPMENT_ID' and 'EXECUTION_START_DATE'\n",
    "df.sort_values(by=['EQUIPMENT_ID', 'EXECUTION_START_DATE'], inplace=True)\n",
    "\n",
    "# Calculate the time difference between consecutive 'EXECUTION_START_DATE' for each 'EQUIPMENT_ID'\n",
    "df['TIME_BETWEEN_MAINTENANCE'] = df.groupby('EQUIPMENT_ID')['EXECUTION_START_DATE'].diff().dt.days\n",
    "\n",
    "# Display the first 5 rows to verify the new column\n",
    "print(\"Head of the DataFrame with Time Between Maintenance:\")\n",
    "print(df.head())"
   ]
  },
  {
   "cell_type": "markdown",
   "metadata": {},
   "source": [
    "# Model"
   ]
  },
  {
   "cell_type": "code",
   "execution_count": null,
   "metadata": {},
   "outputs": [],
   "source": [
    "# Model\n",
    "# Predictive Model Section\n",
    "# Drop rows with missing 'TIME_BETWEEN_MAINTENANCE' (since the first entry for each equipment will have NaN)\n",
    "df.dropna(subset=['TIME_BETWEEN_MAINTENANCE'], inplace=True)\n",
    "\n",
    "# Selecting features for the predictive model\n",
    "# We will use 'TIME_BETWEEN_MAINTENANCE' and other relevant features to predict the next maintenance event\n",
    "features = ['TIME_BETWEEN_MAINTENANCE', 'EQUIPMENT_ID', 'ACTUAL_WORK_IN_MINUTES']\n",
    "X = df[features]\n",
    "y = df['TIME_BETWEEN_MAINTENANCE'].shift(-1)  # Target is the next 'TIME_BETWEEN_MAINTENANCE' value\n",
    "\n",
    "# Drop the last row since it has NaN target value\n",
    "y.dropna(inplace=True)\n",
    "X = X.iloc[:-1, :]\n",
    "\n",
    "# Encoding categorical features ('EQUIPMENT_ID')\n",
    "X = pd.get_dummies(X, columns=['EQUIPMENT_ID'])\n",
    "\n",
    "# Splitting the data into training and testing sets\n",
    "X_train, X_test, y_train, y_test = train_test_split(X, y, test_size=0.2, random_state=42)\n",
    "\n",
    "# Scaling Features Section\n",
    "scaler = StandardScaler()\n",
    "X_train_scaled = scaler.fit_transform(X_train)\n",
    "X_test_scaled = scaler.transform(X_test)\n",
    "\n",
    "# Training a Predictive Model to Estimate Maintenance Time Section\n",
    "model = RandomForestRegressor(n_estimators=100, random_state=42)\n",
    "model.fit(X_train_scaled, y_train)\n",
    "\n",
    "# Model Evaluation Section\n",
    "y_pred = model.predict(X_test_scaled)\n",
    "mse = mean_squared_error(y_test, y_pred)\n",
    "print(f'Mean Squared Error for Predictive Model: {mse}')\n",
    "\n",
    "# Average Maintenance Time Prediction per Equipment ID Section\n",
    "avg_maintenance_time = df.groupby('EQUIPMENT_ID')['TIME_BETWEEN_MAINTENANCE'].mean().reset_index()\n",
    "\n",
    "# Visualization Section\n",
    "plt.figure(figsize=(12, 6))\n",
    "sns.barplot(x='EQUIPMENT_ID', y='TIME_BETWEEN_MAINTENANCE', data=avg_maintenance_time)\n",
    "plt.xlabel('Equipment ID')\n",
    "plt.ylabel('Average Time Between Maintenance (Days)')\n",
    "plt.title('Average Maintenance Time per Equipment ID')\n",
    "plt.xticks(rotation=90)\n",
    "plt.tight_layout()\n",
    "plt.show()\n",
    "\n",
    "# Glypse of Data Section\n",
    "# Display the first 5 rows of the DataFrame\n",
    "print(\"Head of the DataFrame:\")\n",
    "print(df.head())"
   ]
  }
 ],
 "metadata": {
  "kernelspec": {
   "display_name": "Python 3",
   "language": "python",
   "name": "python3"
  },
  "language_info": {
   "name": "python",
   "version": "3.12.4"
  }
 },
 "nbformat": 4,
 "nbformat_minor": 2
}
