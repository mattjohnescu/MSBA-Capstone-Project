{
 "cells": [
  {
   "cell_type": "markdown",
   "metadata": {},
   "source": [
    "Modeling Notebook:"
   ]
  },
  {
   "cell_type": "markdown",
   "metadata": {},
   "source": [
    "# Loading Packages"
   ]
  },
  {
   "cell_type": "code",
   "execution_count": 6,
   "metadata": {},
   "outputs": [],
   "source": [
    "# Importing Libraries\n",
    "import pandas as pd\n",
    "import numpy as np\n",
    "import matplotlib.pyplot as plt\n",
    "import seaborn as sns\n",
    "from sklearn.model_selection import train_test_split\n",
    "from sklearn.preprocessing import StandardScaler\n",
    "from sklearn.linear_model import Lasso\n",
    "from sklearn.metrics import mean_squared_error\n",
    "import pandas as pd\n",
    "from sklearn.linear_model import Lasso\n",
    "from sklearn.model_selection import train_test_split\n",
    "from sklearn.metrics import mean_squared_error\n",
    "from sklearn.preprocessing import StandardScaler\n",
    "from sklearn.compose import ColumnTransformer\n",
    "from sklearn.pipeline import Pipeline\n",
    "from sklearn.preprocessing import OneHotEncoder"
   ]
  },
  {
   "cell_type": "markdown",
   "metadata": {},
   "source": [
    "# Loading Data"
   ]
  },
  {
   "cell_type": "code",
   "execution_count": 7,
   "metadata": {},
   "outputs": [
    {
     "name": "stderr",
     "output_type": "stream",
     "text": [
      "C:\\Users\\johne\\AppData\\Local\\Temp\\ipykernel_11696\\2456862225.py:5: DtypeWarning: Columns (8,11,12,13,14,15,16,17,18,20,21,22,23,24) have mixed types. Specify dtype option on import or set low_memory=False.\n",
      "  master_df = pd.read_csv(file_path)\n"
     ]
    },
    {
     "data": {
      "text/plain": [
       "PRODUCTION_LOCATION             0.000000\n",
       "ACTUAL_WORK_IN_MINUTES          0.000000\n",
       "MAINTENANCE_PLAN                0.477051\n",
       "MAINTENANCE_ITEM                0.477051\n",
       "MAINTENANCE_ACTIVITY_TYPE       0.000000\n",
       "ORDER_DESCRIPTION               0.000096\n",
       "MAINTENANCE_TYPE_DESCRIPTION    0.000000\n",
       "FUNCTIONAL_LOC                  0.000045\n",
       "EQUIPMENT_ID                    0.000000\n",
       "EQUIPMENT_DESC                  0.727730\n",
       "EQUIP_CAT_DESC                  0.727730\n",
       "dtype: float64"
      ]
     },
     "execution_count": 7,
     "metadata": {},
     "output_type": "execute_result"
    }
   ],
   "source": [
    "# Define the path to your CSV file\n",
    "file_path = r\"C:/Users/johne/Downloads/IWC_Work_Orders_Extract.csv\"\n",
    "# file_path = r\"C:/Users/matt/Downloads/IWC_Work_Orders_Extract.csv\"\n",
    "# Read the CSV file into a pandas DataFrame\n",
    "master_df = pd.read_csv(file_path)\n",
    "\n",
    "\n",
    "\n",
    "\n",
    "# GROUP 1: Matt, Alex, Carson\n",
    "group_1_df = master_df.copy()\n",
    "\n",
    "# GROUP 2: Nick S., Nick G.\n",
    "group_2_df = master_df.copy()\n",
    "\n",
    "\n",
    "\n",
    "\n",
    "#IMPORTANT\n",
    "# REPLACE DF PLACEHOLDER\n",
    "df_col_drop_lasso=group_2_df.drop(['ORDER_ID','PLANT_ID', 'FUNCTIONAL_AREA_NODE_1_MODIFIED', \n",
    "                                   'FUNCTIONAL_AREA_NODE_2_MODIFIED', 'FUNCTIONAL_AREA_NODE_3_MODIFIED', 'FUNCTIONAL_AREA_NODE_4_MODIFIED',\n",
    "                                   'FUNCTIONAL_AREA_NODE_5_MODIFIED', 'EQUIP_VALID_TO', 'EXECUTION_START_DATE', \n",
    "                                   'EXECUTION_FINISH_DATE', 'EQUIP_START_UP_DATE', 'EQUIP_VALID_FROM', 'EQUIP_VALID_TO', 'ACTUAL_START_TIME', 'ACTUAL_FINISH_TIME'],axis=1)\n",
    "#how to handle nodes? Equip start/vaid date?\n",
    "\n",
    "df_filtered_lasso = df_col_drop_lasso.dropna(subset=['ORDER_DESCRIPTION', 'MAINTENANCE_PLAN', 'MAINTENANCE_ITEM','MAINTENANCE_TYPE_DESCRIPTION', 'FUNCTIONAL_LOC', 'EQUIPMENT_ID'], how='all')\n",
    "\n",
    "df_filtered_lasso.isnull().sum()/len(df_filtered_lasso)\n"
   ]
  },
  {
   "cell_type": "markdown",
   "metadata": {},
   "source": [
    "# Removing null values "
   ]
  },
  {
   "cell_type": "code",
   "execution_count": 8,
   "metadata": {},
   "outputs": [
    {
     "name": "stdout",
     "output_type": "stream",
     "text": [
      "Number of NaN values in each column:\n",
      " PRODUCTION_LOCATION             0\n",
      "ACTUAL_WORK_IN_MINUTES          0\n",
      "MAINTENANCE_PLAN                0\n",
      "MAINTENANCE_ITEM                0\n",
      "MAINTENANCE_ACTIVITY_TYPE       0\n",
      "ORDER_DESCRIPTION               0\n",
      "MAINTENANCE_TYPE_DESCRIPTION    0\n",
      "FUNCTIONAL_LOC                  0\n",
      "EQUIPMENT_ID                    0\n",
      "EQUIPMENT_DESC                  0\n",
      "EQUIP_CAT_DESC                  0\n",
      "dtype: int64\n",
      "Original shape: (1427264, 25)\n",
      "Shape after dropping NaNs: (57067, 11)\n"
     ]
    }
   ],
   "source": [
    "# Create a new DataFrame by dropping rows with NaN values\n",
    "group_2_df_cleaned = df_filtered_lasso.dropna()\n",
    "\n",
    "# Verify that there are no NaN values remaining\n",
    "print(\"Number of NaN values in each column:\\n\", group_2_df_cleaned.isna().sum())\n",
    "\n",
    "# Display the new shape of the DataFrame\n",
    "print(\"Original shape:\", group_2_df.shape)\n",
    "print(\"Shape after dropping NaNs:\", group_2_df_cleaned.shape)"
   ]
  },
  {
   "cell_type": "markdown",
   "metadata": {},
   "source": [
    "# Glypse of Data"
   ]
  },
  {
   "cell_type": "code",
   "execution_count": 9,
   "metadata": {},
   "outputs": [
    {
     "name": "stdout",
     "output_type": "stream",
     "text": [
      "Head of the DataFrame:\n",
      "   PRODUCTION_LOCATION  ACTUAL_WORK_IN_MINUTES MAINTENANCE_PLAN  \\\n",
      "5                MONZA                    18.0       G291VM1437   \n",
      "71                COTA                    36.0     000000058177   \n",
      "72                COTA                    60.0     000000058177   \n",
      "73                COTA                    36.0     000000058177   \n",
      "74                COTA                    36.0     000000058177   \n",
      "\n",
      "    MAINTENANCE_ITEM MAINTENANCE_ACTIVITY_TYPE  \\\n",
      "5            40534.0                   Planned   \n",
      "71          235113.0                   Planned   \n",
      "72          235113.0                   Planned   \n",
      "73          235113.0                   Planned   \n",
      "74          235113.0                   Planned   \n",
      "\n",
      "                           ORDER_DESCRIPTION  MAINTENANCE_TYPE_DESCRIPTION  \\\n",
      "5   TANKS AIR STORAGE FOR MECH WHILE SHUTDOW  Preventive Maintenance Order   \n",
      "71     WEEKLY BOTTLE BURST TESTER INSPECTION  Preventive Maintenance Order   \n",
      "72     WEEKLY BOTTLE BURST TESTER INSPECTION  Preventive Maintenance Order   \n",
      "73     WEEKLY BOTTLE BURST TESTER INSPECTION  Preventive Maintenance Order   \n",
      "74     WEEKLY BOTTLE BURST TESTER INSPECTION  Preventive Maintenance Order   \n",
      "\n",
      "   FUNCTIONAL_LOC  EQUIPMENT_ID                 EQUIPMENT_DESC  \\\n",
      "5    G291-PRD-P05   300001088.0              TANK_STL_STOR_AIR   \n",
      "71   G816-PRD-P15   400027400.0  TESTER_PACKAGE_PRESSURE_BURST   \n",
      "72   G816-PRD-P15   400027400.0  TESTER_PACKAGE_PRESSURE_BURST   \n",
      "73   G816-PRD-P15   400027400.0  TESTER_PACKAGE_PRESSURE_BURST   \n",
      "74   G816-PRD-P15   400027400.0  TESTER_PACKAGE_PRESSURE_BURST   \n",
      "\n",
      "                EQUIP_CAT_DESC  \n",
      "5                     Machines  \n",
      "71  Test/measurement equipment  \n",
      "72  Test/measurement equipment  \n",
      "73  Test/measurement equipment  \n",
      "74  Test/measurement equipment  \n"
     ]
    }
   ],
   "source": [
    "# Display the first 5 rows of the DataFrame\n",
    "print(\"Head of the DataFrame:\")\n",
    "print(group_2_df_cleaned.head())"
   ]
  },
  {
   "cell_type": "markdown",
   "metadata": {},
   "source": [
    "Filter Further, by plant, silverstone"
   ]
  },
  {
   "cell_type": "code",
   "execution_count": 10,
   "metadata": {},
   "outputs": [],
   "source": [
    "df_filtered_lasso_silverstone = group_2_df_cleaned[group_2_df_cleaned['PRODUCTION_LOCATION'] == 'SILVERSTONE']"
   ]
  },
  {
   "cell_type": "code",
   "execution_count": 11,
   "metadata": {},
   "outputs": [
    {
     "data": {
      "text/plain": [
       "(249, 11)"
      ]
     },
     "execution_count": 11,
     "metadata": {},
     "output_type": "execute_result"
    }
   ],
   "source": [
    "df_filtered_lasso_silverstone.shape"
   ]
  },
  {
   "cell_type": "markdown",
   "metadata": {},
   "source": [
    "# Creating new variables:"
   ]
  },
  {
   "cell_type": "markdown",
   "metadata": {},
   "source": [
    "# Model"
   ]
  },
  {
   "cell_type": "markdown",
   "metadata": {},
   "source": []
  }
 ],
 "metadata": {
  "kernelspec": {
   "display_name": "Python 3",
   "language": "python",
   "name": "python3"
  },
  "language_info": {
   "codemirror_mode": {
    "name": "ipython",
    "version": 3
   },
   "file_extension": ".py",
   "mimetype": "text/x-python",
   "name": "python",
   "nbconvert_exporter": "python",
   "pygments_lexer": "ipython3",
   "version": "3.12.6"
  }
 },
 "nbformat": 4,
 "nbformat_minor": 2
}
