{
 "cells": [
  {
   "cell_type": "markdown",
   "metadata": {},
   "source": [
    "# Post Modeling Visuals Based on Modeling Results"
   ]
  },
  {
   "cell_type": "markdown",
   "metadata": {},
   "source": [
    "# Import Packages"
   ]
  },
  {
   "cell_type": "code",
   "execution_count": 1,
   "metadata": {},
   "outputs": [],
   "source": [
    "import pandas as pd\n",
    "import numpy as np"
   ]
  },
  {
   "cell_type": "markdown",
   "metadata": {},
   "source": [
    "# Import Data"
   ]
  },
  {
   "cell_type": "code",
   "execution_count": 2,
   "metadata": {},
   "outputs": [
    {
     "name": "stderr",
     "output_type": "stream",
     "text": [
      "C:\\Users\\johne\\AppData\\Local\\Temp\\ipykernel_9932\\2529462873.py:1: DtypeWarning: Columns (8,11,12,13,14,15,16,17,18,20,21,22,23,24) have mixed types. Specify dtype option on import or set low_memory=False.\n",
      "  master_df = pd.read_csv(\"C:/Users/johne/Downloads/IWC_Work_Orders_Extract.csv\")\n"
     ]
    }
   ],
   "source": [
    "master_df = pd.read_csv(\"C:/Users/johne/Downloads/IWC_Work_Orders_Extract.csv\")\n"
   ]
  },
  {
   "cell_type": "markdown",
   "metadata": {},
   "source": [
    "# Data Cleaning (Same as Modeling)"
   ]
  },
  {
   "cell_type": "code",
   "execution_count": null,
   "metadata": {},
   "outputs": [],
   "source": []
  },
  {
   "cell_type": "code",
   "execution_count": 3,
   "metadata": {},
   "outputs": [
    {
     "data": {
      "text/plain": [
       "PRODUCTION_LOCATION             0.000000\n",
       "ACTUAL_WORK_IN_MINUTES          0.000000\n",
       "MAINTENANCE_PLAN                0.477051\n",
       "MAINTENANCE_ITEM                0.477051\n",
       "MAINTENANCE_ACTIVITY_TYPE       0.000000\n",
       "ORDER_DESCRIPTION               0.000096\n",
       "MAINTENANCE_TYPE_DESCRIPTION    0.000000\n",
       "FUNCTIONAL_LOC                  0.000045\n",
       "EQUIPMENT_ID                    0.000000\n",
       "EQUIPMENT_DESC                  0.727730\n",
       "EQUIP_CAT_DESC                  0.727730\n",
       "dtype: float64"
      ]
     },
     "execution_count": 3,
     "metadata": {},
     "output_type": "execute_result"
    }
   ],
   "source": [
    "# Cleaning the data by droppping columns that have any Colinearity or columns with slim to no data.\n",
    "\n",
    "df_col_drop_lasso=master_df.drop(['ORDER_ID','PLANT_ID', 'FUNCTIONAL_AREA_NODE_1_MODIFIED',\n",
    "                                   'FUNCTIONAL_AREA_NODE_2_MODIFIED', 'FUNCTIONAL_AREA_NODE_3_MODIFIED', 'FUNCTIONAL_AREA_NODE_4_MODIFIED',\n",
    "                                   'FUNCTIONAL_AREA_NODE_5_MODIFIED', 'EQUIP_VALID_TO', 'EXECUTION_START_DATE',\n",
    "                                   'EXECUTION_FINISH_DATE', 'EQUIP_START_UP_DATE', 'EQUIP_VALID_FROM', 'EQUIP_VALID_TO', 'ACTUAL_START_TIME', 'ACTUAL_FINISH_TIME'],axis=1)\n",
    "\n",
    "# Dropping rows with NaN values that wont work within the lasso regression\n",
    "\n",
    "df_filtered_lasso = df_col_drop_lasso.dropna(subset=['ORDER_DESCRIPTION', 'MAINTENANCE_PLAN', 'MAINTENANCE_ITEM','MAINTENANCE_TYPE_DESCRIPTION', 'FUNCTIONAL_LOC', 'EQUIPMENT_ID'], how='all')\n",
    "\n",
    "df_filtered_lasso.isnull().sum()/len(df_filtered_lasso)"
   ]
  }
 ],
 "metadata": {
  "kernelspec": {
   "display_name": "Python 3",
   "language": "python",
   "name": "python3"
  },
  "language_info": {
   "codemirror_mode": {
    "name": "ipython",
    "version": 3
   },
   "file_extension": ".py",
   "mimetype": "text/x-python",
   "name": "python",
   "nbconvert_exporter": "python",
   "pygments_lexer": "ipython3",
   "version": "3.12.6"
  }
 },
 "nbformat": 4,
 "nbformat_minor": 2
}
