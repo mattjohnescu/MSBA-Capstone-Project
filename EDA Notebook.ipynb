{
 "cells": [
  {
   "cell_type": "code",
   "execution_count": 1,
   "metadata": {},
   "outputs": [],
   "source": [
    "import pandas as pd\n",
    "import numpy as np"
   ]
  },
  {
   "cell_type": "code",
   "execution_count": 2,
   "metadata": {},
   "outputs": [
    {
     "name": "stderr",
     "output_type": "stream",
     "text": [
      "C:\\Users\\johne\\AppData\\Local\\Temp\\ipykernel_17376\\1164890831.py:5: DtypeWarning: Columns (8,11,12,13,14,15,16,17,18,20,21,22,23,24) have mixed types. Specify dtype option on import or set low_memory=False.\n",
      "  df = pd.read_csv(file_path)\n"
     ]
    },
    {
     "name": "stdout",
     "output_type": "stream",
     "text": [
      "Head of the DataFrame:\n",
      "    ORDER_ID PLANT_ID PRODUCTION_LOCATION EXECUTION_START_DATE  \\\n",
      "0  705642457     G812                ROMA           2024-05-04   \n",
      "1  704191697     G812                ROMA           2022-09-13   \n",
      "2  704466547     G812                ROMA           2022-12-21   \n",
      "3  703834477     G812                ROMA           2022-07-04   \n",
      "4  704661125     G291               MONZA           2023-03-15   \n",
      "\n",
      "  EXECUTION_FINISH_DATE ACTUAL_START_TIME ACTUAL_FINISH_TIME  \\\n",
      "0            2024-05-12      06:00:00.000       23:04:08.000   \n",
      "1            2022-09-13      06:00:00.000       17:17:24.000   \n",
      "2            2022-12-21      07:00:00.000       07:00:00.000   \n",
      "3            2022-07-04      06:00:00.000       06:00:00.000   \n",
      "4            2023-03-15      07:00:00.000       07:00:00.000   \n",
      "\n",
      "   ACTUAL_WORK_IN_MINUTES MAINTENANCE_PLAN  MAINTENANCE_ITEM  ...  \\\n",
      "0                   390.0              NaN               NaN  ...   \n",
      "1                   420.0              NaN               NaN  ...   \n",
      "2                    30.0              NaN               NaN  ...   \n",
      "3                    60.0              NaN               NaN  ...   \n",
      "4                   120.0              NaN               NaN  ...   \n",
      "\n",
      "  FUNCTIONAL_AREA_NODE_2_MODIFIED    FUNCTIONAL_AREA_NODE_3_MODIFIED  \\\n",
      "0      G812 PRD FILLER_ROTARY_CAN  G812 PRD FILLER_ROTARY_CAN LINE 3   \n",
      "1      G812 PRD FILLER_ROTARY_CAN  G812 PRD FILLER_ROTARY_CAN LINE 3   \n",
      "2      G812 PRD FILLER_ROTARY_CAN  G812 PRD FILLER_ROTARY_CAN LINE 3   \n",
      "3      G812 PRD FILLER_ROTARY_CAN  G812 PRD FILLER_ROTARY_CAN LINE 3   \n",
      "4                     AIR SYSTEMS                                NaN   \n",
      "\n",
      "  FUNCTIONAL_AREA_NODE_4_MODIFIED FUNCTIONAL_AREA_NODE_5_MODIFIED  \\\n",
      "0                        CONVEYOR               FULL CAN CONVEYOR   \n",
      "1                        CONVEYOR               FULL CAN CONVEYOR   \n",
      "2                        CONVEYOR               FULL CAN CONVEYOR   \n",
      "3                        CONVEYOR               FULL CAN CONVEYOR   \n",
      "4                             NaN                             NaN   \n",
      "\n",
      "  EQUIPMENT_ID             EQUIPMENT_DESC EQUIP_CAT_DESC EQUIP_START_UP_DATE  \\\n",
      "0  300126812.0  FULL CAN CONVEYOR (FC41B)       Machines          2020-04-22   \n",
      "1  300126812.0  FULL CAN CONVEYOR (FC41B)       Machines          2020-04-22   \n",
      "2  300126812.0  FULL CAN CONVEYOR (FC41B)       Machines          2020-04-22   \n",
      "3  300126812.0  FULL CAN CONVEYOR (FC41B)       Machines          2020-04-22   \n",
      "4  300001088.0          TANK_STL_STOR_AIR       Machines          2017-02-15   \n",
      "\n",
      "  EQUIP_VALID_FROM  EQUIP_VALID_TO  \n",
      "0       2020-02-10      9999-12-31  \n",
      "1       2020-02-10      9999-12-31  \n",
      "2       2020-02-10      9999-12-31  \n",
      "3       2020-02-10      9999-12-31  \n",
      "4       2023-12-11      9999-12-31  \n",
      "\n",
      "[5 rows x 25 columns]\n",
      "\n",
      "Basic Statistics of the DataFrame:\n",
      "           ORDER_ID  ACTUAL_WORK_IN_MINUTES  MAINTENANCE_ITEM  EQUIPMENT_ID\n",
      "count  1.427264e+06            1.427264e+06     152594.000000  2.917950e+05\n",
      "mean   4.561470e+10            8.862968e+01     115846.807954  3.002609e+08\n",
      "std    8.387114e+10            8.037915e+02      71325.255687  5.581645e+06\n",
      "min    1.000219e+08            0.000000e+00      39801.000000  2.000871e+08\n",
      "25%    4.022602e+08            1.200000e+01      41046.000000  3.000092e+08\n",
      "50%    7.044271e+08            4.800000e+01     112995.000000  3.000178e+08\n",
      "75%    1.002343e+09            9.000000e+01     134702.000000  3.000269e+08\n",
      "max    9.000001e+11            3.301848e+05     346352.000000  4.000290e+08\n"
     ]
    }
   ],
   "source": [
    "\n",
    "\n",
    "# Define the path to your CSV file\n",
    "file_path = r\"C:/Users/johne/Downloads/IWC_Work_Orders_Extract.csv\"\n",
    "\n",
    "# Read the CSV file into a pandas DataFrame\n",
    "df = pd.read_csv(file_path)\n",
    "\n",
    "# Display the first 5 rows of the DataFrame\n",
    "print(\"Head of the DataFrame:\")\n",
    "print(df.head())\n",
    "\n"
   ]
  }
 ],
 "metadata": {
  "kernelspec": {
   "display_name": "Python 3",
   "language": "python",
   "name": "python3"
  },
  "language_info": {
   "codemirror_mode": {
    "name": "ipython",
    "version": 3
   },
   "file_extension": ".py",
   "mimetype": "text/x-python",
   "name": "python",
   "nbconvert_exporter": "python",
   "pygments_lexer": "ipython3",
   "version": "3.12.0"
  }
 },
 "nbformat": 4,
 "nbformat_minor": 2
}
